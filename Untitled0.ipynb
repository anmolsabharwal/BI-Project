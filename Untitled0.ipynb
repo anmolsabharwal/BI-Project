{
  "nbformat": 4,
  "nbformat_minor": 0,
  "metadata": {
    "colab": {
      "name": "Untitled0.ipynb",
      "provenance": [],
      "authorship_tag": "ABX9TyPgs/Q7tp4OSLz4SXHFkvxY",
      "include_colab_link": true
    },
    "kernelspec": {
      "name": "python3",
      "display_name": "Python 3"
    }
  },
  "cells": [
    {
      "cell_type": "markdown",
      "metadata": {
        "id": "view-in-github",
        "colab_type": "text"
      },
      "source": [
        "<a href=\"https://colab.research.google.com/github/anmolsabharwal/BI-Project/blob/master/Untitled0.ipynb\" target=\"_parent\"><img src=\"https://colab.research.google.com/assets/colab-badge.svg\" alt=\"Open In Colab\"/></a>"
      ]
    },
    {
      "cell_type": "code",
      "metadata": {
        "id": "X49AVFKD05Nz",
        "colab_type": "code",
        "colab": {
          "base_uri": "https://localhost:8080/",
          "height": 71
        },
        "outputId": "06bca1f3-364d-41c6-cf3f-0756b27603f1"
      },
      "source": [
        "import matplotlib.pyplot as plt\n",
        "import numpy as np\n",
        "import pandas as pd\n",
        "import seaborn as sns\n",
        "import sqlite3\n"
      ],
      "execution_count": 1,
      "outputs": [
        {
          "output_type": "stream",
          "text": [
            "/usr/local/lib/python3.6/dist-packages/statsmodels/tools/_testing.py:19: FutureWarning: pandas.util.testing is deprecated. Use the functions in the public API at pandas.testing instead.\n",
            "  import pandas.util.testing as tm\n"
          ],
          "name": "stderr"
        }
      ]
    },
    {
      "cell_type": "code",
      "metadata": {
        "id": "NzQ9Zxef1EQJ",
        "colab_type": "code",
        "colab": {
          "base_uri": "https://localhost:8080/",
          "height": 252
        },
        "outputId": "3f5dff99-bf06-47f9-e8cd-8ec57a3e31c8"
      },
      "source": [
        "gws = sqlite3.connect('/Users/anmolsabharwal/Desktop/fpl.db')\n",
        "gws1 = pd.read_sql_query(\"SELECT * FROM gws\", gws)\n",
        "\n",
        "gws1=gws1.astype({\n",
        "    \"name\": 'category', \n",
        "    \"assists\": int,\n",
        "    'attempted_passes':int, \n",
        "    'big_chances_created':int,\n",
        "    'big_chances_missed':int,\n",
        "    'bonus':int, 'bps':int,\n",
        "    'clean_sheets':'category',\n",
        "    'clearances_blocks_interceptions':int,\n",
        "    'completed_passes':int,'creativity':float,\n",
        "    'dribbles':int,\n",
        "    'ea_index':int,\n",
        "    'element':int,\n",
        "    'errors_leading_to_goal':int,\n",
        "    'fixture':int,\n",
        "    'fouls':int,\n",
        "    'goals_conceded':int,\n",
        "    'goals_scored':int,\n",
        "    'ict_index':float,\n",
        "    'id':int,\n",
        "    'influence':float,\n",
        "    'key_passes':int,\n",
        "    'loaned_in':int,\n",
        "    'loaned_out':int,\n",
        "    'minutes':int,\n",
        "    'offside':int,\n",
        "    'open_play_crosses':int,\n",
        "    'opponent_team':int,\n",
        "    'own_goals':int,\n",
        "    'penalties_conceded':int,\n",
        "    'penalties_missed':int,\n",
        "    'penalties_saved':int,\n",
        "    'recoveries':int,\n",
        "    'red_cards':int,\n",
        "    'round':int,\n",
        "    'saves':int,\n",
        "    'selected':int,\n",
        "    'tackled':int,\n",
        "    'tackles':int,\n",
        "    'target_missed':int,\n",
        "    'team_a_score':int,\n",
        "    'team_h_score':int,\n",
        "    'threat':float,\n",
        "    'total_points':int,\n",
        "    'transfers_balance':int,\n",
        "    'transfers_in':int,\n",
        "    'transfers_out':int,\n",
        "    'value':int,\n",
        "    'was_home':'category',\n",
        "    'winning_goals':'category',\n",
        "    'yellow_cards':'category'\n",
        "      }) \n",
        "\n",
        "\n",
        "gws1.dtypes\n",
        "gws1\n"
      ],
      "execution_count": 2,
      "outputs": [
        {
          "output_type": "error",
          "ename": "OperationalError",
          "evalue": "ignored",
          "traceback": [
            "\u001b[0;31m---------------------------------------------------------------------------\u001b[0m",
            "\u001b[0;31mOperationalError\u001b[0m                          Traceback (most recent call last)",
            "\u001b[0;32m<ipython-input-2-652e6821b4a2>\u001b[0m in \u001b[0;36m<module>\u001b[0;34m()\u001b[0m\n\u001b[0;32m----> 1\u001b[0;31m \u001b[0mgws\u001b[0m \u001b[0;34m=\u001b[0m \u001b[0msqlite3\u001b[0m\u001b[0;34m.\u001b[0m\u001b[0mconnect\u001b[0m\u001b[0;34m(\u001b[0m\u001b[0;34m'/Users/anmolsabharwal/Desktop/fpl.db'\u001b[0m\u001b[0;34m)\u001b[0m\u001b[0;34m\u001b[0m\u001b[0;34m\u001b[0m\u001b[0m\n\u001b[0m\u001b[1;32m      2\u001b[0m \u001b[0mgws1\u001b[0m \u001b[0;34m=\u001b[0m \u001b[0mpd\u001b[0m\u001b[0;34m.\u001b[0m\u001b[0mread_sql_query\u001b[0m\u001b[0;34m(\u001b[0m\u001b[0;34m\"SELECT * FROM gws\"\u001b[0m\u001b[0;34m,\u001b[0m \u001b[0mgws\u001b[0m\u001b[0;34m)\u001b[0m\u001b[0;34m\u001b[0m\u001b[0;34m\u001b[0m\u001b[0m\n\u001b[1;32m      3\u001b[0m \u001b[0;34m\u001b[0m\u001b[0m\n\u001b[1;32m      4\u001b[0m gws1=gws1.astype({\"name\": 'category', \"assists\": int,'attempted_passes':int, 'big_chances_created':int,'big_chances_missed':int,'bonus':int, 'bps':int,\n\u001b[1;32m      5\u001b[0m                   \u001b[0;34m'clean_sheets'\u001b[0m\u001b[0;34m:\u001b[0m\u001b[0;34m'category'\u001b[0m\u001b[0;34m,\u001b[0m\u001b[0;34m'clearances_blocks_interceptions'\u001b[0m\u001b[0;34m:\u001b[0m\u001b[0mint\u001b[0m\u001b[0;34m,\u001b[0m\u001b[0;34m'completed_passes'\u001b[0m\u001b[0;34m:\u001b[0m\u001b[0mint\u001b[0m\u001b[0;34m,\u001b[0m\u001b[0;34m'creativity'\u001b[0m\u001b[0;34m:\u001b[0m\u001b[0mfloat\u001b[0m\u001b[0;34m,\u001b[0m\u001b[0;34m'dribbles'\u001b[0m\u001b[0;34m:\u001b[0m\u001b[0mint\u001b[0m\u001b[0;34m,\u001b[0m\u001b[0;34m'ea_index'\u001b[0m\u001b[0;34m:\u001b[0m\u001b[0mint\u001b[0m\u001b[0;34m,\u001b[0m\u001b[0;34m'element'\u001b[0m\u001b[0;34m:\u001b[0m\u001b[0mint\u001b[0m\u001b[0;34m,\u001b[0m\u001b[0;34m'errors_leading_to_goal'\u001b[0m\u001b[0;34m:\u001b[0m\u001b[0mint\u001b[0m\u001b[0;34m,\u001b[0m\u001b[0;34m\u001b[0m\u001b[0;34m\u001b[0m\u001b[0m\n",
            "\u001b[0;31mOperationalError\u001b[0m: unable to open database file"
          ]
        }
      ]
    }
  ]
}