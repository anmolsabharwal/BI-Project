{
 "cells": [
  {
   "cell_type": "code",
   "execution_count": 1,
   "metadata": {},
   "outputs": [],
   "source": [
    "import gmplot\n",
    "import pandas as pd\n",
    "import xlrd"
   ]
  },
  {
   "cell_type": "code",
   "execution_count": 6,
   "metadata": {},
   "outputs": [],
   "source": [
    "apikey = ''"
   ]
  },
  {
   "cell_type": "code",
   "execution_count": 4,
   "metadata": {},
   "outputs": [
    {
     "data": {
      "text/plain": [
       "['id',\n",
       " 'Street',\n",
       " 'City',\n",
       " 'State',\n",
       " 'ZipCode',\n",
       " 'BUILDING_NAME',\n",
       " 'DEPT_ID',\n",
       " 'DEPT_NAME',\n",
       " 'Lat/Long',\n",
       " 'Latitude',\n",
       " 'Longitude']"
      ]
     },
     "execution_count": 4,
     "metadata": {},
     "output_type": "execute_result"
    }
   ],
   "source": [
    "emp_data = pd.read_excel('Data/filtered_employee.xlsx')\n",
    "emp_data.head(5)\n",
    "\n",
    "list(emp_data.columns)"
   ]
  },
  {
   "cell_type": "code",
   "execution_count": 11,
   "metadata": {},
   "outputs": [
    {
     "name": "stdout",
     "output_type": "stream",
     "text": [
      "0      -110.886533\n",
      "1      -110.905411\n",
      "2      -110.934851\n",
      "3      -110.921912\n",
      "4      -111.066733\n",
      "           ...    \n",
      "6471   -110.901532\n",
      "6472   -110.915255\n",
      "6473   -110.885876\n",
      "6474   -110.930514\n",
      "6475   -110.958916\n",
      "Name: Longitude, Length: 6476, dtype: float64\n"
     ]
    }
   ],
   "source": [
    "latitudes = emp_data['Latitude']\n",
    "#print(latitudes)\n",
    "\n",
    "longitudes = emp_data['Longitude']\n",
    "#print(longitudes)"
   ]
  },
  {
   "cell_type": "code",
   "execution_count": null,
   "metadata": {},
   "outputs": [],
   "source": []
  },
  {
   "cell_type": "code",
   "execution_count": 20,
   "metadata": {},
   "outputs": [],
   "source": [
    "gmap = gmplot.GoogleMapPlotter(32.304569925846586,-110.88653315899633, 14, apikey)"
   ]
  },
  {
   "cell_type": "code",
   "execution_count": 25,
   "metadata": {},
   "outputs": [],
   "source": [
    "gmap.scatter(latitudes, longitudes, '#3B0B39', size=40, marker=False)\n",
    "gmap.draw(\"gmplot-scatter.html\")"
   ]
  },
  {
   "cell_type": "code",
   "execution_count": 24,
   "metadata": {},
   "outputs": [],
   "source": [
    "gmap.plot(latitudes, longitudes, 'cornflowerblue', edge_width=5)\n",
    "gmap.draw(\"gmplot-route.html\")"
   ]
  },
  {
   "cell_type": "code",
   "execution_count": null,
   "metadata": {},
   "outputs": [],
   "source": []
  }
 ],
 "metadata": {
  "kernelspec": {
   "display_name": "Python 3",
   "language": "python",
   "name": "python3"
  },
  "language_info": {
   "codemirror_mode": {
    "name": "ipython",
    "version": 3
   },
   "file_extension": ".py",
   "mimetype": "text/x-python",
   "name": "python",
   "nbconvert_exporter": "python",
   "pygments_lexer": "ipython3",
   "version": "3.8.2"
  }
 },
 "nbformat": 4,
 "nbformat_minor": 4
}
