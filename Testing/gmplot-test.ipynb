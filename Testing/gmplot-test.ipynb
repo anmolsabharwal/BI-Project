{
 "cells": [
  {
   "cell_type": "code",
   "execution_count": 1,
   "metadata": {},
   "outputs": [],
   "source": [
    "import gmplot\n",
    "import pandas as pd\n",
    "import xlrd"
   ]
  },
  {
   "cell_type": "code",
   "execution_count": 6,
   "metadata": {},
   "outputs": [],
   "source": [
    "apikey = ''"
   ]
  },
  {
   "cell_type": "code",
   "execution_count": 4,
   "metadata": {},
   "outputs": [
    {
     "data": {
      "text/plain": [
       "['id',\n",
       " 'Street',\n",
       " 'City',\n",
       " 'State',\n",
       " 'ZipCode',\n",
       " 'BUILDING_NAME',\n",
       " 'DEPT_ID',\n",
       " 'DEPT_NAME',\n",
       " 'Lat/Long',\n",
       " 'Latitude',\n",
       " 'Longitude']"
      ]
     },
     "execution_count": 4,
     "metadata": {},
     "output_type": "execute_result"
    }
   ],
   "source": [
    "emp_data = pd.read_excel('Data/filtered_employee.xlsx')\n",
    "emp_data.head(5)\n",
    "\n",
    "list(emp_data.columns)"
   ]
  },
  {
   "cell_type": "code",
   "execution_count": 43,
   "metadata": {},
   "outputs": [],
   "source": [
    "latitudes = emp_data['Latitude']\n",
    "#print(latitudes)\n",
    "\n",
    "longitudes = emp_data['Longitude']\n",
    "#print(longitudes)"
   ]
  },
  {
   "cell_type": "code",
   "execution_count": 57,
   "metadata": {},
   "outputs": [],
   "source": [
    "# Load Map - lat/long here is the center of the map for now & 14 is the zoom level\n",
    "gmap = gmplot.GoogleMapPlotter(32.232570, -110.951930, 14, apikey)"
   ]
  },
  {
   "cell_type": "code",
   "execution_count": 50,
   "metadata": {},
   "outputs": [],
   "source": [
    "gmap.scatter(latitudes, longitudes, '#3B0B39', size=40, marker=False)\n",
    "gmap.draw(\"gmplot-scatter.html\")"
   ]
  },
  {
   "cell_type": "code",
   "execution_count": 60,
   "metadata": {},
   "outputs": [],
   "source": [
    "iter_lat = [float(32.304569925846586)]\n",
    "iter_long = [float(-110.88653315899633)]\n",
    "\n",
    "lat_list = list(emp_data['Latitude'].head(10))\n",
    "long_list = list(emp_data['Longitude'].head(10))"
   ]
  },
  {
   "cell_type": "code",
   "execution_count": 61,
   "metadata": {},
   "outputs": [],
   "source": [
    "gmap.plot(lat_list, long_list, 'cornflowerblue', edge_width=10)\n",
    "gmap.draw(\"gmplot-route-1.html\")"
   ]
  }
 ],
 "metadata": {
  "kernelspec": {
   "display_name": "Python 3",
   "language": "python",
   "name": "python3"
  },
  "language_info": {
   "codemirror_mode": {
    "name": "ipython",
    "version": 3
   },
   "file_extension": ".py",
   "mimetype": "text/x-python",
   "name": "python",
   "nbconvert_exporter": "python",
   "pygments_lexer": "ipython3",
   "version": "3.8.2"
  }
 },
 "nbformat": 4,
 "nbformat_minor": 4
}
