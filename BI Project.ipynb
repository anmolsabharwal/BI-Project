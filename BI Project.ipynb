{
 "cells": [
  {
   "cell_type": "markdown",
   "metadata": {},
   "source": [
    "# Code for BI Project"
   ]
  },
  {
   "cell_type": "code",
   "execution_count": 67,
   "metadata": {},
   "outputs": [],
   "source": [
    "api_key = '<Enter Here>'"
   ]
  },
  {
   "cell_type": "markdown",
   "metadata": {},
   "source": [
    "## Import the required Packages"
   ]
  },
  {
   "cell_type": "code",
   "execution_count": 68,
   "metadata": {},
   "outputs": [],
   "source": [
    "import pandas as pd\n",
    "import requests\n",
    "import xlrd\n",
    "import googlemaps\n",
    "from datetime import datetime\n",
    "import gmaps"
   ]
  },
  {
   "cell_type": "markdown",
   "metadata": {},
   "source": [
    "## Load Data"
   ]
  },
  {
   "cell_type": "code",
   "execution_count": 69,
   "metadata": {},
   "outputs": [
    {
     "data": {
      "text/plain": [
       "['id',\n",
       " 'Street',\n",
       " 'City',\n",
       " 'State',\n",
       " 'ZipCode',\n",
       " 'BUILDING_NAME',\n",
       " 'DEPT_ID',\n",
       " 'DEPT_NAME',\n",
       " 'Lat/Long',\n",
       " 'Latitude',\n",
       " 'Longitude']"
      ]
     },
     "execution_count": 69,
     "metadata": {},
     "output_type": "execute_result"
    }
   ],
   "source": [
    "emp_data = pd.read_excel('Data/filtered_employee.xlsx')\n",
    "emp_data.head(5)\n",
    "list(emp_data.columns)"
   ]
  },
  {
   "cell_type": "code",
   "execution_count": 70,
   "metadata": {},
   "outputs": [],
   "source": [
    "#origin = (32.3045,-110.8865)\n",
    "origin = emp_data['Lat/Long'].iloc[0]\n",
    "# print(origin) \n",
    "\n",
    "# Destination is set to Student Unions - Temporary\n",
    "destination = (32.232570, -110.951930)\n",
    "\n",
    "# waypoints = [(32.2506219,-110.9054112),(32.26388068034152,-110.93485054294074),etc]"
   ]
  },
  {
   "cell_type": "markdown",
   "metadata": {},
   "source": [
    "## GMaps"
   ]
  },
  {
   "cell_type": "code",
   "execution_count": 71,
   "metadata": {},
   "outputs": [
    {
     "name": "stdout",
     "output_type": "stream",
     "text": [
      "Figure(layout=FigureLayout(height='420px'))\n"
     ]
    }
   ],
   "source": [
    "gmaps.configure(api_key = api_key)\n",
    "fig = gmaps.figure()\n",
    "#layer = gmaps.directions.Directions(origin, destination, \n",
    "                                    #mode='car',\n",
    "                                    #api_key=api_key,\n",
    "                                    #departure_time = now)\n",
    "\n",
    "#fig.add_layer(layer)\n",
    "print(fig)"
   ]
  },
  {
   "cell_type": "markdown",
   "metadata": {},
   "source": [
    "## Distance and time "
   ]
  },
  {
   "cell_type": "code",
   "execution_count": 72,
   "metadata": {},
   "outputs": [],
   "source": [
    "now = datetime.now()\n",
    "gmaps = googlemaps.Client(key=api_key)\n",
    "waypoints_dir = [(32.2506219,-110.9054112),(32.26388068034152,-110.93485054294074)]\n",
    "for i in waypoints_dir:\n",
    "    directions = gmaps.directions(origin = origin,\n",
    "                                  waypoints = i,\n",
    "                                  destination = destination,\n",
    "                                  mode='driving',\n",
    "                                  optimize_waypoints=True,\n",
    "                                  departure_time = now)"
   ]
  },
  {
   "cell_type": "code",
   "execution_count": 73,
   "metadata": {},
   "outputs": [
    {
     "name": "stdout",
     "output_type": "stream",
     "text": [
      "6.2 mi\n",
      "13 mins\n",
      "5366 N Salida Del Sol Dr, Tucson, AZ 85718, USA\n",
      "2502 E Blanton Dr, Tucson, AZ 85716, USA\n",
      "3.2 mi\n",
      "10 mins\n",
      "2502 E Blanton Dr, Tucson, AZ 85716, USA\n",
      "1303 E University Blvd, Tucson, AZ 85719, USA\n"
     ]
    }
   ],
   "source": [
    "# print\n",
    "for i in range(0, 2):\n",
    "    print(directions[0]['legs'][i]['distance']['text'])\n",
    "    print(directions[0]['legs'][i]['duration']['text'])\n",
    "    print(directions[0]['legs'][i]['start_address'])\n",
    "    print(directions[0]['legs'][i]['end_address'])"
   ]
  },
  {
   "cell_type": "code",
   "execution_count": 74,
   "metadata": {},
   "outputs": [],
   "source": [
    "df = pd.DataFrame({'Address': emp_data['Street'],\n",
    "                  'Location': emp_data['Lat/Long'],\n",
    "                   'Latitude': emp_data['Latitude'],\n",
    "                   'Longitude': emp_data['Longitude']\n",
    "                  })"
   ]
  },
  {
   "cell_type": "code",
   "execution_count": 75,
   "metadata": {},
   "outputs": [],
   "source": [
    "start_address = []\n",
    "end_address = []\n",
    "distance = []\n",
    "journey_time = []\n",
    "\n",
    "for i in range(0, 2):\n",
    "    distance.append(directions[0]['legs'][i]['distance']['text'])\n",
    "    journey_time.append(directions[0]['legs'][i]['duration']['text'])\n",
    "    start_address.append(directions[0]['legs'][i]['start_address'])\n",
    "    end_address.append(directions[0]['legs'][i]['end_address'])"
   ]
  },
  {
   "cell_type": "code",
   "execution_count": 77,
   "metadata": {},
   "outputs": [
    {
     "name": "stdout",
     "output_type": "stream",
     "text": [
      "                                     start_address  \\\n",
      "0  5366 N Salida Del Sol Dr, Tucson, AZ 85718, USA   \n",
      "1         2502 E Blanton Dr, Tucson, AZ 85716, USA   \n",
      "\n",
      "                                     end_address distance journey_time  \n",
      "0       2502 E Blanton Dr, Tucson, AZ 85716, USA   6.2 mi      13 mins  \n",
      "1  1303 E University Blvd, Tucson, AZ 85719, USA   3.2 mi      10 mins  \n"
     ]
    }
   ],
   "source": [
    "df_distance = pd.DataFrame({\n",
    "            'start_address':start_address,\n",
    "            'end_address':end_address,\n",
    "            'distance':distance,\n",
    "            'journey_time':journey_time},\n",
    "columns = ['start_address','end_address','distance','journey_time'])\n",
    "\n",
    "print(df_distance)"
   ]
  },
  {
   "cell_type": "code",
   "execution_count": null,
   "metadata": {},
   "outputs": [],
   "source": []
  }
 ],
 "metadata": {
  "kernelspec": {
   "display_name": "Python 3",
   "language": "python",
   "name": "python3"
  },
  "language_info": {
   "codemirror_mode": {
    "name": "ipython",
    "version": 3
   },
   "file_extension": ".py",
   "mimetype": "text/x-python",
   "name": "python",
   "nbconvert_exporter": "python",
   "pygments_lexer": "ipython3",
   "version": "3.8.2"
  }
 },
 "nbformat": 4,
 "nbformat_minor": 4
}
